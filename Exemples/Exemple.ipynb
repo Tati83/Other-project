{
 "cells": [
  {
   "cell_type": "markdown",
   "metadata": {},
   "source": [
    "# boucles"
   ]
  },
  {
   "cell_type": "markdown",
   "metadata": {},
   "source": [
    "### Tant que je n'ai pas trouvé la solution à mes devoirs, je continuerai de travailler."
   ]
  },
  {
   "cell_type": "code",
   "execution_count": null,
   "metadata": {},
   "outputs": [],
   "source": [
    "'''resultat = input(\"Veuillez saisir une valeur: \") \n",
    "nb_chance = 3\n",
    "reponse = [\"17\"]\n",
    "for i in range (0, len(resultat)):\n",
    "    reponse = input(resultat[i])\n",
    "    reponse = reponse.astype(int64)\n",
    "    while resultat != 17:\n",
    "        if nb_chance == 1:\n",
    "            print(\"Vous avez épuisez toutes vos chances\")\n",
    "            break\n",
    "        else:\n",
    "            nb_chance -= 1\n",
    "            print(\"Il vous reste {} chances\".format(nb_chance))\n",
    "            resultat = input(resultat[i])\n",
    "    else :\n",
    "        print(\"Bonne réponse\")'''\n",
    "dic = {\"Nom\":\"Fogang\", \"Prénom\":\"Tati\", \"Activité\":\"Chômeur\", \"Domicile\":\"Ville de Creil\"}\n",
    "for key in dic:\n",
    "    print(key)\n",
    "    "
   ]
  },
  {
   "cell_type": "code",
   "execution_count": null,
   "metadata": {},
   "outputs": [],
   "source": []
  },
  {
   "cell_type": "code",
   "execution_count": null,
   "metadata": {},
   "outputs": [],
   "source": []
  }
 ],
 "metadata": {
  "kernelspec": {
   "display_name": "Python 3",
   "language": "python",
   "name": "python3"
  },
  "language_info": {
   "codemirror_mode": {
    "name": "ipython",
    "version": 3
   },
   "file_extension": ".py",
   "mimetype": "text/x-python",
   "name": "python",
   "nbconvert_exporter": "python",
   "pygments_lexer": "ipython3",
   "version": "3.7.4"
  }
 },
 "nbformat": 4,
 "nbformat_minor": 2
}
